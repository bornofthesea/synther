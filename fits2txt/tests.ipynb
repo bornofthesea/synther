{
 "cells": [
  {
   "cell_type": "code",
   "execution_count": 5,
   "id": "f09a33b1-7c6f-415c-8861-d64f478f2089",
   "metadata": {},
   "outputs": [],
   "source": [
    "try:\n",
    "    import pyfits\n",
    "except:\n",
    "    from astropy.io import fits as pyfits\n",
    " \n",
    "    \n",
    "from astropy.io import fits\n",
    "import numpy as np\n",
    "import matplotlib.pyplot as plt\n",
    "import seaborn as sns\n",
    "import csv\n",
    "import sys\n",
    "import math\n",
    "import os\n",
    "from matplotlib.ticker import (MultipleLocator, AutoMinorLocator)\n",
    "\n"
   ]
  },
  {
   "cell_type": "code",
   "execution_count": 6,
   "id": "8ff99d81-6eea-4111-a7e4-6f5280d908e5",
   "metadata": {},
   "outputs": [
    {
     "data": {
      "text/plain": [
       "XTENSION= 'IMAGE   '           / Image extension                                \n",
       "BITPIX  =                  -64 / array data type                                \n",
       "NAXIS   =                    2 / number of array dimensions                     \n",
       "NAXIS1  =                 8575                                                  \n",
       "NAXIS2  =                    2                                                  \n",
       "PCOUNT  =                    0 / number of parameters                           \n",
       "GCOUNT  =                    1 / number of groups                               \n",
       "CRVAL1  =                4.179                                                  \n",
       "CDELT1  =                6E-06                                                  \n",
       "CRPIX1  =                    1                                                  \n",
       "CTYPE1  = 'LOG-LINEAR'                                                          \n",
       "BUNIT   = 'Flux (10^-17 erg/s/cm^2/Ang)'                                        "
      ]
     },
     "execution_count": 6,
     "metadata": {},
     "output_type": "execute_result"
    }
   ],
   "source": [
    "file_path = '/home/morgan/PhD/Data/spectra/n6558/asStar-dr17-2M18101117-3144580.fits'\n",
    "hdu = pyfits.open(file_path)\n",
    "hdu[1].header"
   ]
  },
  {
   "cell_type": "code",
   "execution_count": 8,
   "id": "9a60bfd3-a9dd-441a-9696-035c7d6beae6",
   "metadata": {},
   "outputs": [
    {
     "data": {
      "text/plain": [
       "[<matplotlib.lines.Line2D at 0x7f4a61b84d10>]"
      ]
     },
     "execution_count": 8,
     "metadata": {},
     "output_type": "execute_result"
    },
    {
     "data": {
      "image/png": "[encoded data removed]",
      "text/plain": [
       "<Figure size 640x480 with 1 Axes>"
      ]
     },
     "metadata": {},
     "output_type": "display_data"
    }
   ],
   "source": [
    "plt.plot(hdu[6].data[0])"
   ]
  },
  {
   "cell_type": "code",
   "execution_count": null,
   "id": "19e8305f-851d-42a1-bb29-59303bf01807",
   "metadata": {},
   "outputs": [],
   "source": []
  }
 ],
 "metadata": {
  "kernelspec": {
   "display_name": "Python 3 (ipykernel)",
   "language": "python",
   "name": "python3"
  },
  "language_info": {
   "codemirror_mode": {
    "name": "ipython",
    "version": 3
   },
   "file_extension": ".py",
   "mimetype": "text/x-python",
   "name": "python",
   "nbconvert_exporter": "python",
   "pygments_lexer": "ipython3",
   "version": "3.11.2"
  }
 },
 "nbformat": 4,
 "nbformat_minor": 5
}
