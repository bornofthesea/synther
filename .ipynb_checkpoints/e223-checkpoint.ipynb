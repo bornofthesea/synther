{
 "cells": [
  {
   "cell_type": "code",
   "execution_count": 2,
   "id": "7d5cb31d-40e7-47fe-8dbd-33e96c4a764a",
   "metadata": {},
   "outputs": [
    {
     "ename": "AttributeError",
     "evalue": "type object 'Config' has no attribute 'DEFAULT_OFFSETS'",
     "output_type": "error",
     "traceback": [
      "\u001b[0;31m---------------------------------------------------------------------------\u001b[0m",
      "\u001b[0;31mAttributeError\u001b[0m                            Traceback (most recent call last)",
      "Cell \u001b[0;32mIn[2], line 4\u001b[0m\n\u001b[1;32m      1\u001b[0m \u001b[38;5;28;01mfrom\u001b[39;00m \u001b[38;5;21;01mstellar_analysis\u001b[39;00m \u001b[38;5;28;01mimport\u001b[39;00m plot_cno\n\u001b[1;32m      3\u001b[0m \u001b[38;5;66;03m# Example usage\u001b[39;00m\n\u001b[0;32m----> 4\u001b[0m \u001b[43mplot_cno\u001b[49m\u001b[43m(\u001b[49m\n\u001b[1;32m      5\u001b[0m \u001b[43m    \u001b[49m\u001b[43msynthetic_files\u001b[49m\u001b[38;5;241;43m=\u001b[39;49m\u001b[38;5;124;43m\"\u001b[39;49m\u001b[38;5;124;43me223c-c4.dat\u001b[39;49m\u001b[38;5;124;43m\"\u001b[39;49m\u001b[43m,\u001b[49m\n\u001b[1;32m      6\u001b[0m \u001b[43m    \u001b[49m\u001b[43mobserved_file\u001b[49m\u001b[38;5;241;43m=\u001b[39;49m\u001b[38;5;124;43m\"\u001b[39;49m\u001b[38;5;124;43me223.dat\u001b[39;49m\u001b[38;5;124;43m\"\u001b[39;49m\u001b[43m,\u001b[49m\n\u001b[1;32m      7\u001b[0m \u001b[43m    \u001b[49m\u001b[43mlabels\u001b[49m\u001b[38;5;241;43m=\u001b[39;49m\u001b[43m[\u001b[49m\u001b[38;5;124;43m\"\u001b[39;49m\u001b[38;5;124;43mC754 N683 O824\u001b[39;49m\u001b[38;5;124;43m\"\u001b[39;49m\u001b[43m]\u001b[49m\u001b[43m,\u001b[49m\n\u001b[1;32m      8\u001b[0m \u001b[43m    \u001b[49m\u001b[43mstarname\u001b[49m\u001b[38;5;241;43m=\u001b[39;49m\u001b[38;5;124;43m\"\u001b[39;49m\u001b[38;5;124;43me223\u001b[39;49m\u001b[38;5;124;43m\"\u001b[39;49m\n\u001b[1;32m      9\u001b[0m \u001b[43m)\u001b[49m\n",
      "File \u001b[0;32m~/PhD/Scripts/synther/stellar_analysis/plotting/elements/cno.py:41\u001b[0m, in \u001b[0;36mplot_cno\u001b[0;34m(synthetic_files, observed_file, labels, starname, show, save, **kwargs)\u001b[0m\n\u001b[1;32m     18\u001b[0m \u001b[38;5;250m\u001b[39m\u001b[38;5;124;03m\"\"\"\u001b[39;00m\n\u001b[1;32m     19\u001b[0m \u001b[38;5;124;03mPlot CNO molecular features across three wavelength regions.\u001b[39;00m\n\u001b[1;32m     20\u001b[0m \u001b[38;5;124;03m\u001b[39;00m\n\u001b[0;32m   (...)\u001b[0m\n\u001b[1;32m     31\u001b[0m \u001b[38;5;124;03m    Path to saved figure if save=True, else None\u001b[39;00m\n\u001b[1;32m     32\u001b[0m \u001b[38;5;124;03m\"\"\"\u001b[39;00m\n\u001b[1;32m     33\u001b[0m \u001b[38;5;66;03m# Merge defaults with user parameters\u001b[39;00m\n\u001b[1;32m     34\u001b[0m params \u001b[38;5;241m=\u001b[39m {\n\u001b[1;32m     35\u001b[0m     \u001b[38;5;124m\"\u001b[39m\u001b[38;5;124mxlim1\u001b[39m\u001b[38;5;124m\"\u001b[39m: Config\u001b[38;5;241m.\u001b[39mDEFAULT_XLIM[\u001b[38;5;124m\"\u001b[39m\u001b[38;5;124mCNO\u001b[39m\u001b[38;5;124m\"\u001b[39m][\u001b[38;5;241m0\u001b[39m],\n\u001b[1;32m     36\u001b[0m     \u001b[38;5;124m\"\u001b[39m\u001b[38;5;124mxlim2\u001b[39m\u001b[38;5;124m\"\u001b[39m: Config\u001b[38;5;241m.\u001b[39mDEFAULT_XLIM[\u001b[38;5;124m\"\u001b[39m\u001b[38;5;124mCNO\u001b[39m\u001b[38;5;124m\"\u001b[39m][\u001b[38;5;241m1\u001b[39m],\n\u001b[1;32m     37\u001b[0m     \u001b[38;5;124m\"\u001b[39m\u001b[38;5;124mxlim3\u001b[39m\u001b[38;5;124m\"\u001b[39m: Config\u001b[38;5;241m.\u001b[39mDEFAULT_XLIM[\u001b[38;5;124m\"\u001b[39m\u001b[38;5;124mCNO\u001b[39m\u001b[38;5;124m\"\u001b[39m][\u001b[38;5;241m2\u001b[39m],\n\u001b[1;32m     38\u001b[0m     \u001b[38;5;124m\"\u001b[39m\u001b[38;5;124mylim1\u001b[39m\u001b[38;5;124m\"\u001b[39m: Config\u001b[38;5;241m.\u001b[39mDEFAULT_YLIM,\n\u001b[1;32m     39\u001b[0m     \u001b[38;5;124m\"\u001b[39m\u001b[38;5;124mylim2\u001b[39m\u001b[38;5;124m\"\u001b[39m: Config\u001b[38;5;241m.\u001b[39mDEFAULT_YLIM,\n\u001b[1;32m     40\u001b[0m     \u001b[38;5;124m\"\u001b[39m\u001b[38;5;124mylim3\u001b[39m\u001b[38;5;124m\"\u001b[39m: Config\u001b[38;5;241m.\u001b[39mDEFAULT_YLIM,\n\u001b[0;32m---> 41\u001b[0m     \u001b[38;5;241m*\u001b[39m\u001b[38;5;241m*\u001b[39m\u001b[43mConfig\u001b[49m\u001b[38;5;241;43m.\u001b[39;49m\u001b[43mDEFAULT_OFFSETS\u001b[49m,\n\u001b[1;32m     42\u001b[0m     \u001b[38;5;241m*\u001b[39m\u001b[38;5;241m*\u001b[39mkwargs\n\u001b[1;32m     43\u001b[0m }\n\u001b[1;32m     45\u001b[0m \u001b[38;5;66;03m# Load data\u001b[39;00m\n\u001b[1;32m     46\u001b[0m obs_data \u001b[38;5;241m=\u001b[39m load_spectrum(observed_file, is_observed\u001b[38;5;241m=\u001b[39m\u001b[38;5;28;01mTrue\u001b[39;00m)\n",
      "\u001b[0;31mAttributeError\u001b[0m: type object 'Config' has no attribute 'DEFAULT_OFFSETS'"
     ]
    }
   ],
   "source": [
    "from stellar_analysis import plot_cno\n",
    "\n",
    "# Example usage\n",
    "plot_cno(\n",
    "    synthetic_files=\"e223c-c4.dat\",\n",
    "    observed_file=\"e223.dat\",\n",
    "    labels=[\"C754 N683 O824\"],\n",
    "    starname=\"e223\"\n",
    ")"
   ]
  },
  {
   "cell_type": "code",
   "execution_count": null,
   "id": "75602463-d55e-4776-bbc6-ec2e592a6cd2",
   "metadata": {},
   "outputs": [],
   "source": []
  }
 ],
 "metadata": {
  "kernelspec": {
   "display_name": "Python 3 (ipykernel)",
   "language": "python",
   "name": "python3"
  },
  "language_info": {
   "codemirror_mode": {
    "name": "ipython",
    "version": 3
   },
   "file_extension": ".py",
   "mimetype": "text/x-python",
   "name": "python",
   "nbconvert_exporter": "python",
   "pygments_lexer": "ipython3",
   "version": "3.12.9"
  }
 },
 "nbformat": 4,
 "nbformat_minor": 5
}
